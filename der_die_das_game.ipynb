{
 "cells": [
  {
   "cell_type": "markdown",
   "metadata": {},
   "source": [
    "# Der, die, das game\n",
    "\n",
    "One of the most difficult aspects of German is to clearly remember the gender of nouns. There is no clear rule with which a learner can assign gender to nouns. In the end, it mostly boils down to learning by heart all the nouns with their corresponding gender. This is my own attempt at makings things a bit easier. \n",
    "\n",
    "This short program is aim to test students how well their \"der, die, das\" is going. In the end, it provides users with a set of graphs so they can track their progress. Note, also, that students are free to extend the list presented here. I found the original list [here](http://www.byki.com/lists/german/greg%27s-german-nouns-part-1.html) and scrape it and put it in `csv` format. "
   ]
  },
  {
   "cell_type": "code",
   "execution_count": 86,
   "metadata": {
    "collapsed": false
   },
   "outputs": [],
   "source": [
    "import pandas as pd\n",
    "import random\n",
    "import datetime\n",
    "import os.path\n",
    "import time\n",
    "\n",
    "class Gender_guess:\n",
    "    \"\"\"\"Implements the main game. A word in German is chosen and the user is asked for the gender.\"\"\"\n",
    "    \n",
    "    def __init__(self, csvfile):\n",
    "        \"\"\"Takes csv values that contains nouns and generates a pandas data frame to collect results.\"\"\"\n",
    "        self.noun_list = csvfile\n",
    "        self.data_base = pd.DataFrame(index=range(0),\n",
    "                                      columns=['date', 'time', 'input','article', 'wort', 'word', 'correct'])\n",
    "        \n",
    "    def file_to_data_frame(self, csvfile):\n",
    "        \"\"\"Passes csv file with Vocabulary to pandas data frame.\"\"\"\n",
    "        data_nouns = pd.read_csv('final_data.csv', delimiter= \",\", index_col=0)\n",
    "        return data_nouns\n",
    "    \n",
    "    def pick_word(self, data_frame):\n",
    "        \"\"\"Randomly pick an index to select word to be tested.\"\"\"\n",
    "        random_pick = random.randint(0, len(data_frame.index) -1)\n",
    "        return random_pick\n",
    "\n",
    "    def eng_ger_word(self, random_pick, data_frame):\n",
    "        \"\"\"Select the words in German and English according to the random selection.\"\"\"\n",
    "        german = data_frame.ix[random_pick][\"Wort\"]\n",
    "        english = data_frame.ix[random_pick][\"Word\"]\n",
    "        return german, english\n",
    "    \n",
    "    def print_words(self, german, english):\n",
    "        \"\"\"Prints the set of instructions and words for the user.\"\"\"\n",
    "        german_spacing = int(len(german)/2)\n",
    "        english_spacing = int(len(english)/2)\n",
    "        total_spacing = (german_spacing + english_spacing)*2 + len(\"Deutsch\"+\"English\") + 2\n",
    "        print(\"{0}{1}{2}|| {3}{4}{5} \\n {6} \".format\n",
    "              (\" \"*german_spacing  ,\"Deutsch\", \" \"*german_spacing ,\" \"*english_spacing\n",
    "               ,\"English\" , \" \"*english_spacing, '='* total_spacing))\n",
    "        print(\" {0}{1}{2}\\n\\n\".format(german,\" \"*(german_spacing + 4) , english))\n",
    " \n",
    "    def take_input(self):\n",
    "        \"\"\"Takes input of user. Prechecks input values.\"\"\"\n",
    "        gender = input(\"Der, die oder das? ... \\n\\n\").lower()\n",
    "        while gender not in [\"der\", \"die\", \"das\"]:\n",
    "            print(\"\\n\\nPlease, make sure to enter a valid gender.\")\n",
    "            gender = input(\"Der, die oder das? ... \\n\\n\").lower()\n",
    "        return gender\n",
    "    \n",
    "    def print_input(self, gender_input, german_word): \n",
    "        \"\"\"Prints user's input.\"\"\"\n",
    "        print(\"\\n\\n{} {}\".format(gender_input , german_word))\n",
    "        \n",
    "    def word_gender(self, random_pick, data_frame):\n",
    "        \"\"\"Chooses the article corresponding to word randomly chosen.\"\"\"\n",
    "        german_gen = data_frame.ix[random_pick][\"Article\"]\n",
    "        return german_gen.strip()  \n",
    "    \n",
    "    def checker(self, german_gender, gender_input):\n",
    "        \"\"\"Checks if gender is right.\"\"\"\n",
    "        if german_gender == gender_input:\n",
    "            print(\"Das stimmt! :)\\n\\n\")\n",
    "            return True\n",
    "        else:\n",
    "            print(\"Das ist nicht richtig :( --> {} \\n\\n \".format(german_gender))\n",
    "            return False\n",
    "    \n",
    "    def gen_data_base(self, gender_input, german_gender, german_wort, english_word, correct):\n",
    "        \"\"\"Updates previously generated data base with results from tests.\"\"\"\n",
    "        to_add = pd.DataFrame({'date': [datetime.date.today().strftime(\"%d-%m-%Y\")], \n",
    "                               'time': [datetime.datetime.now().time().strftime(\"%H:%M:%S\")], \n",
    "                               'input': [gender_input],'article': [german_gender], \n",
    "                               'wort': [german_wort], 'word': [english_word], 'correct': [correct]})\n",
    "        self.data_base = self.data_base.append(to_add, ignore_index=True)\n",
    "    \n",
    "    def run_program(self, number_of_words):\n",
    "        \"\"\"Main logic of program. Stores results to a pandas data frame for time series tracking.\"\"\"\n",
    "        data = self.file_to_data_frame('nouns_german')\n",
    "        for round in range(number_of_words):\n",
    "            ran_pick = self.pick_word(data)\n",
    "            german = self.eng_ger_word(ran_pick, data)[0]\n",
    "            english = self.eng_ger_word(ran_pick, data)[1]\n",
    "            german_gender = self.word_gender(ran_pick, data)\n",
    "            self.print_words(german, english)\n",
    "            gender_input = self.take_input()\n",
    "            self.print_input(gender_input, german)\n",
    "            correct = self.checker(german_gender, gender_input)\n",
    "            self.gen_data_base(gender_input, german_gender, german, english, correct)\n",
    "            time.sleep(1)\n",
    "        if os.path.isfile(\"results\"):\n",
    "            previous_data = pd.read_pickle(\"results\")\n",
    "            previous_data = previous_data.append(self.data_base, ignore_index=True)\n",
    "            previous_data.to_pickle(\"results\")\n",
    "        else: \n",
    "            self.data_base.to_pickle(\"results\")\n"
   ]
  },
  {
   "cell_type": "code",
   "execution_count": 311,
   "metadata": {
    "collapsed": false
   },
   "outputs": [],
   "source": [
    "prueba_1 = Gender_guess('final_data.csv')"
   ]
  },
  {
   "cell_type": "code",
   "execution_count": 312,
   "metadata": {
    "collapsed": false
   },
   "outputs": [
    {
     "name": "stdout",
     "output_type": "stream",
     "text": [
      "      Deutsch      ||       English       \n",
      " ======================================== \n",
      " Weltraum, -¨e          the universe\n",
      "\n",
      "\n",
      "Der, die oder das? ... \n",
      "\n",
      "der\n",
      "\n",
      "\n",
      "der Weltraum, -¨e\n",
      "Das stimmt! :)\n",
      "\n",
      "\n",
      "     Deutsch     ||  English  \n",
      " ============================ \n",
      " Kasten, -¨n         box\n",
      "\n",
      "\n",
      "Der, die oder das? ... \n",
      "\n",
      "der\n",
      "\n",
      "\n",
      "der Kasten, -¨n\n",
      "Das stimmt! :)\n",
      "\n",
      "\n",
      "     Deutsch     ||      English      \n",
      " ==================================== \n",
      " Mitleid, x         compassion\n",
      "\n",
      "\n",
      "Der, die oder das? ... \n",
      "\n",
      "das\n",
      "\n",
      "\n",
      "das Mitleid, x\n",
      "Das stimmt! :)\n",
      "\n",
      "\n",
      "    Deutsch    ||    English    \n",
      " ============================== \n",
      " Käse, -n        cheese\n",
      "\n",
      "\n",
      "Der, die oder das? ... \n",
      "\n",
      "die\n",
      "\n",
      "\n",
      "die Käse, -n\n",
      "Das ist nicht richtig :( --> der \n",
      "\n",
      " \n",
      "            Deutsch            ||              English              \n",
      " ================================================================== \n",
      " Halz-Nasen-Ohrenartz, -¨                ear, nose and throat doctor\n",
      "\n",
      "\n",
      "Der, die oder das? ... \n",
      "\n",
      "der\n",
      "\n",
      "\n",
      "der Halz-Nasen-Ohrenartz, -¨\n",
      "Das stimmt! :)\n",
      "\n",
      "\n",
      "      Deutsch      ||       English       \n",
      " ======================================== \n",
      " Hurerei, -en          prostitution\n",
      "\n",
      "\n",
      "Der, die oder das? ... \n",
      "\n",
      "die\n",
      "\n",
      "\n",
      "die Hurerei, -en\n",
      "Das stimmt! :)\n",
      "\n",
      "\n",
      "        Deutsch        ||      English      \n",
      " ========================================== \n",
      " Urgroßmutter, -n            grandmother\n",
      "\n",
      "\n",
      "Der, die oder das? ... \n",
      "\n",
      "die\n",
      "\n",
      "\n",
      "die Urgroßmutter, -n\n",
      "Das stimmt! :)\n",
      "\n",
      "\n",
      "    Deutsch    ||   English   \n",
      " ============================ \n",
      " Leben, -        life\n",
      "\n",
      "\n",
      "Der, die oder das? ... \n",
      "\n",
      "das\n",
      "\n",
      "\n",
      "das Leben, -\n",
      "Das stimmt! :)\n",
      "\n",
      "\n",
      "     Deutsch     ||       English       \n",
      " ====================================== \n",
      " Anblick, -e         sight, a look\n",
      "\n",
      "\n",
      "Der, die oder das? ... \n",
      "\n",
      "der\n",
      "\n",
      "\n",
      "der Anblick, -e\n",
      "Das stimmt! :)\n",
      "\n",
      "\n",
      "     Deutsch     ||     English     \n",
      " ================================== \n",
      " Vorteil, -e         advantage\n",
      "\n",
      "\n",
      "Der, die oder das? ... \n",
      "\n",
      "der\n",
      "\n",
      "\n",
      "der Vorteil, -e\n",
      "Das stimmt! :)\n",
      "\n",
      "\n",
      "    Deutsch    ||   English   \n",
      " ============================ \n",
      " Feld, -er        field\n",
      "\n",
      "\n",
      "Der, die oder das? ... \n",
      "\n",
      "das\n",
      "\n",
      "\n",
      "das Feld, -er\n",
      "Das stimmt! :)\n",
      "\n",
      "\n",
      "     Deutsch     ||         English         \n",
      " ========================================== \n",
      " Mäppchen, -         small pencil case\n",
      "\n",
      "\n",
      "Der, die oder das? ... \n",
      "\n",
      "das\n",
      "\n",
      "\n",
      "das Mäppchen, -\n",
      "Das stimmt! :)\n",
      "\n",
      "\n",
      "    Deutsch    ||   English   \n",
      " ============================ \n",
      " Mauer, -n        wall\n",
      "\n",
      "\n",
      "Der, die oder das? ... \n",
      "\n",
      "der\n",
      "\n",
      "\n",
      "der Mauer, -n\n",
      "Das ist nicht richtig :( --> die \n",
      "\n",
      " \n",
      "               Deutsch               ||    English    \n",
      " ==================================================== \n",
      " Sünder , -, die Sünder in, -nen                   sinner\n",
      "\n",
      "\n",
      "Der, die oder das? ... \n",
      "\n",
      "der\n",
      "\n",
      "\n",
      "der Sünder , -, die Sünder in, -nen\n",
      "Das stimmt! :)\n",
      "\n",
      "\n",
      "    Deutsch    ||  English  \n",
      " ========================== \n",
      " Hafer, -        oat\n",
      "\n",
      "\n",
      "Der, die oder das? ... \n",
      "\n",
      "das\n",
      "\n",
      "\n",
      "das Hafer, -\n",
      "Das ist nicht richtig :( --> der \n",
      "\n",
      " \n",
      "      Deutsch      ||       English       \n",
      " ======================================== \n",
      " Bußgeld, -er          fine, penalty\n",
      "\n",
      "\n",
      "Der, die oder das? ... \n",
      "\n",
      "das\n",
      "\n",
      "\n",
      "das Bußgeld, -er\n",
      "Das stimmt! :)\n",
      "\n",
      "\n",
      "       Deutsch       ||     English     \n",
      " ====================================== \n",
      " Dunkelheit, -en           darkness\n",
      "\n",
      "\n",
      "Der, die oder das? ... \n",
      "\n",
      "die\n",
      "\n",
      "\n",
      "die Dunkelheit, -en\n",
      "Das stimmt! :)\n",
      "\n",
      "\n",
      "    Deutsch    ||  English  \n",
      " ========================== \n",
      " Meer, -e        sea\n",
      "\n",
      "\n",
      "Der, die oder das? ... \n",
      "\n",
      "das\n",
      "\n",
      "\n",
      "das Meer, -e\n",
      "Das stimmt! :)\n",
      "\n",
      "\n",
      "            Deutsch            ||           English           \n",
      " ============================================================ \n",
      " Produktionsabteilung, -en                production department\n",
      "\n",
      "\n",
      "Der, die oder das? ... \n",
      "\n",
      "die\n",
      "\n",
      "\n",
      "die Produktionsabteilung, -en\n",
      "Das stimmt! :)\n",
      "\n",
      "\n",
      "       Deutsch       ||        English        \n",
      " ============================================ \n",
      " Speerwerfen, -X           spear throwing\n",
      "\n",
      "\n",
      "Der, die oder das? ... \n",
      "\n",
      "das\n",
      "\n",
      "\n",
      "das Speerwerfen, -X\n",
      "Das stimmt! :)\n",
      "\n",
      "\n"
     ]
    }
   ],
   "source": [
    "prueba_1.run_program(20)"
   ]
  },
  {
   "cell_type": "code",
   "execution_count": 293,
   "metadata": {
    "collapsed": false
   },
   "outputs": [],
   "source": [
    "## Graphing\n",
    "%matplotlib inline\n",
    "import matplotlib.pyplot as plt\n",
    "import numpy as np\n",
    "import plotly.plotly as py\n",
    "\n",
    "class Graphs:\n",
    "    \"\"\"Implements multiple graphs based on the Gender game.\"\"\"\n",
    "    def __init__(self, data_base):\n",
    "        self.data_base = data_base\n",
    "    \n",
    "    def overall_results_percent(self):\n",
    "        \"\"\"Generates an overall percent right/wrong graph that accumulates all dates.\"\"\"\n",
    "        correct = self.data_base[\"correct\"].sum() / len(self.data_base)\n",
    "        wrong = (self.data_base[\"correct\"]==False).sum() / len(self.data_base)\n",
    "        results = [correct, wrong]\n",
    "        outcome = (0.30, 0.50)\n",
    "        fig, ax = plt.subplots()\n",
    "        ax.grid(axis=\"y\", zorder=0, color=\"#9698A1\")\n",
    "        width = 0.15 \n",
    "        bars = ax.bar(outcome, results, width, zorder=3)\n",
    "        bars[0].set_color('lightseagreen')\n",
    "        bars[1].set_color('coral')\n",
    "        ax.set_xticks((0.375, 0.575))\n",
    "        ax.spines['top'].set_visible(False)\n",
    "        ax.spines['right'].set_visible(False)\n",
    "        ax.yaxis.set_ticks_position('left')\n",
    "        ax.xaxis.set_ticks_position('bottom')\n",
    "        ax.set_xticklabels(('Right','Wrong'))\n",
    "        fig.suptitle(\"Percentage Right/Wrong\", fontsize=15)\n",
    "        \n",
    "    def results_per_gen(self):\n",
    "        \"\"\"Overall percentage graph grouped by gender.\"\"\"\n",
    "        grouped = (self.data_base[\"correct\"]==True).groupby(self.data_base[\"article\"])\n",
    "        correct = grouped.mean()\n",
    "        incorrect = 1 - grouped.mean()\n",
    "        gender_track = correct.append(incorrect)\n",
    "        fig, ax = plt.subplots()\n",
    "        ax.grid(axis=\"y\", zorder=0, color=\"#9698A1\")\n",
    "        \n",
    "        ind_x = np.array([0., 0.25])\n",
    "        ticks = []\n",
    "        for gender in pd.unique(gender_track.index):\n",
    "            width = 0.25\n",
    "            ind_x += 0.75\n",
    "            bars_gen = ax.bar(ind_x, gender_track[gender], width)\n",
    "            bars_gen[0].set_color('lightseagreen')\n",
    "            bars_gen[1].set_color('coral')\n",
    "            ticks.append((width+ind_x)[0])\n",
    "            \n",
    "        ax.spines['top'].set_visible(False)\n",
    "        ax.spines['right'].set_visible(False)\n",
    "        ax.yaxis.set_ticks_position('left')\n",
    "        ax.xaxis.set_ticks_position('bottom')\n",
    "        ax.set_xticks(ticks)\n",
    "        ax.set_xticklabels(('der','die', 'das'))\n",
    "        fig.suptitle(\"Percentage Right/Wrong by Gender\", fontsize=15)\n",
    "        \n",
    "    def results_per_date(self):\n",
    "        \"\"\"Overall percentage right/wrong graph grouped by date.\"\"\"\n",
    "        grouped = (self.data_base[\"correct\"]==True).groupby(self.data_base[\"date\"])\n",
    "        correct = grouped.mean()\n",
    "        wrong = 1 - grouped.mean()\n",
    "        data_date = correct.append(wrong)\n",
    "        fig, ax = plt.subplots()  \n",
    "        x_loc = np.array([0, 0.15])\n",
    "        ax.grid(axis=\"y\", zorder=0, color=\"#9698A1\")\n",
    "        ticks = []\n",
    "        dates_played = []\n",
    "        for date in pd.unique(data_date.index):\n",
    "            width = 0.15\n",
    "            x_loc += 0.75\n",
    "            bars_date = ax.bar(x_loc, data_date[date], width, zorder=3)\n",
    "            bars_date[0].set_color('lightseagreen')\n",
    "            bars_date[1].set_color('coral')\n",
    "            ticks.append((width+x_loc)[0])\n",
    "            dates_played.append(datetime.datetime.strptime(date, '%d-%m-%Y' ).strftime(\"%d %b\"))\n",
    "        \n",
    "        ax.spines['top'].set_visible(False)\n",
    "        ax.spines['right'].set_visible(False)\n",
    "        ax.yaxis.set_ticks_position('left')\n",
    "        ax.xaxis.set_ticks_position('bottom')\n",
    "        ax.set_xticks(ticks)\n",
    "        ax.set_xticklabels(dates_played)\n",
    "        fig.suptitle(\"Right/Wrong by date\", fontsize=15)\n",
    "        ax.set_xlim([ax.get_xlim()[0], ax.get_xlim()[1]+0.15])\n",
    "        plt.show()\n",
    "        \n",
    "    def wrong_rank(self):\n",
    "        \"\"\"Graph that presents 12 more common mistaken words with their correct gender.\"\"\"\n",
    "        wrong_words = self.data_base[self.data_base[\"correct\"]==False]\n",
    "        wrong_by_word = wrong_words.groupby(wrong_words[\"wort\"])\n",
    "         ## \"article\": Getting the first value of entry\n",
    "        func = {\"correct\": \"count\", \"article\": lambda x: x.iloc[0]} \n",
    "        wrong_by_word =  wrong_by_word.agg(func).rename(columns = {\"correct\": \"wrong\"})\n",
    "        wrong_by_word = wrong_by_word.reset_index()\n",
    "        wrong_ones_sort = wrong_by_word.sort_values(['wrong', 'wort'], ascending = [0, 0])\n",
    "        first_twenty_wrong = wrong_ones_sort[0:20]\n",
    "        col_num = np.arange(first_twenty_wrong.shape[0])\n",
    "        fig, ax = plt.subplots(figsize=(8, 6))\n",
    "        width = 0.65\n",
    "        bars_worng = ax.bar(col_num, first_twenty_wrong[\"wrong\"], width, color= 'powderblue'\n",
    "                           , linewidth=0.5)\n",
    "        ax.set_xlim([-0.5, ax.get_xlim()[1]])\n",
    "        ax.set_ylim([0, ax.get_ylim()[1] +1])\n",
    "        ax.set_title('Ranking of wrong words', fontsize=15)\n",
    "        ax.spines['top'].set_visible(False)\n",
    "        ax.spines['right'].set_visible(False)\n",
    "        ax.grid(axis=\"y\", zorder=0, color=\"#9698A1\")\n",
    "        ax.yaxis.set_ticks_position('left')\n",
    "        ax.xaxis.set_ticks_position('bottom')\n",
    "        ax.set_yticks(np.arange(first_twenty_wrong.iloc[-1][\"wrong\"], \n",
    "                                first_twenty_wrong.iloc[0][\"wrong\"]+2, 1.0))\n",
    "        ax.set_xticks(col_num + 0.325)\n",
    "        ax.set_xticklabels(list(first_twenty_wrong['wort']))\n",
    "        plt.setp(ax.get_xticklabels(), rotation=90)\n",
    "        \n",
    "        for article in range(len(list(first_twenty_wrong['article']))):\n",
    "            ax.text(article + 0.4, 0.15 , list(first_twenty_wrong['article'])[article], rotation= 90,\n",
    "                   horizontalalignment='center',\n",
    "                verticalalignment='center', fontsize=12)        \n",
    "        \n",
    "    def daily_stats(self):\n",
    "        \"\"\"Overall right/wrong percent by date\"\"\"\n",
    "        grouped = (self.data_base[\"correct\"]==True).groupby(self.data_base[\"date\"])\n",
    "        correct = grouped.mean().reset_index()\n",
    "        correct[\"wrong\"] =  1 - correct[\"correct\"]\n",
    "        fig, ax = plt.subplots()\n",
    "        dates = [datetime.datetime.strptime(date, '%d-%m-%Y' ).date() for date in correct[\"date\"] ]\n",
    "        left_limit = (datetime.datetime.strptime(pd.unique(self.data_base[\"date\"])[0], '%d-%m-%Y' ) - \n",
    "                      datetime.timedelta(days= 1)).date() \n",
    "        right_limit = (datetime.datetime.strptime(pd.unique(self.data_base[\"date\"])[-1], '%d-%m-%Y' )  \n",
    "                       + datetime.timedelta(days=1)).date()\n",
    "        ax.plot(dates, correct['correct'], marker = '.', color='lightseagreen',\n",
    "                                           ms = 15, lw = 2, linestyle= '-' , label=\"correct\" )\n",
    "        ax.plot(dates, correct['wrong'], color='coral', marker = '.',\n",
    "                                           ms = 15, lw = 2, linestyle= '-', label=\"wrong\"  )\n",
    "        ax.spines['top'].set_visible(False)\n",
    "        ax.spines['right'].set_visible(False)\n",
    "        ax.yaxis.set_ticks_position('left')\n",
    "        ax.xaxis.set_ticks_position('bottom')\n",
    "        ax.grid(axis=\"y\", zorder=0, color=\"#9698A1\")\n",
    "        ax.set_xticks((dates))\n",
    "        ax.set_xlim([left_limit, right_limit])\n",
    "        ax.set_ylim([0., 1.])\n",
    "        ax.legend(loc='upper right').get_frame().set_alpha(0.3)\n",
    "        ax.set_title('Daily Stats', fontsize=15)\n",
    "        ax.set_xticklabels([date.strftime(\"%d %b\") for date in dates])                \n",
    "\n",
    "    def daily_stats_per_gender(self):\n",
    "        \"\"\"Overall right/wrong percent by date and gender\"\"\"\n",
    "        grouped = (self.data_base[\"correct\"]==True).groupby(\n",
    "            [self.data_base[\"date\"], self.data_base[\"article\"]])\n",
    "        correct_gender = grouped.mean().reset_index()\n",
    "        correct_gender[\"wrong\"] = 1 - correct_gender[\"correct\"] \n",
    "        correct_gender = correct_gender.set_index([\"date\", \"article\"]).unstack().reset_index()\n",
    "        dates = [datetime.datetime.strptime(date, '%d-%m-%Y' ).date() \n",
    "                 for date in correct_gender[\"date\"] ]\n",
    "        left_limit = (datetime.datetime.strptime(pd.unique(self.data_base[\"date\"])[0], '%d-%m-%Y' )  - \n",
    "                      datetime.timedelta(days= 1)).date() \n",
    "        right_limit = (datetime.datetime.strptime(pd.unique(self.data_base[\"date\"])[-1], '%d-%m-%Y' )  \n",
    "                       + datetime.timedelta(days=1)).date()\n",
    "        fig= plt.figure()\n",
    "        ax = fig.add_axes([0.1, 0.2, 0.85, 0.70])\n",
    "        lab_desc, lab_chars = [], []\n",
    "        gen_spec = {\"der\":\"#6191C5\" , \"die\":\"#D56054\" , \"das\": \"#69B17D\"}\n",
    "        for gender, color_gen in gen_spec.items():\n",
    "            ax.plot(dates, correct_gender[\"correct\"][gender], color= color_gen, marker = '.', \n",
    "                    ms = 12, lw = 2, linestyle= '-' )\n",
    "            ax.plot(dates, correct_gender[\"wrong\"][gender], color= color_gen, marker = '.', \n",
    "                    ms = 12, lw = 2, linestyle= '--')\n",
    "            leg_char_corr = plt.Line2D((0,1),(0,0), color=color_gen, marker='.', linestyle='-')\n",
    "            leg_char_wrong = plt.Line2D((0,1),(0,0), color=color_gen, marker='.', linestyle='--')\n",
    "            lab_chars.extend([leg_char_corr, leg_char_wrong])\n",
    "            lab_desc.extend([gender + \" right\", gender + \" wrong\"])\n",
    "        \n",
    "        ax.spines['top'].set_visible(False)\n",
    "        ax.spines['right'].set_visible(False)\n",
    "        ax.yaxis.set_ticks_position('left')\n",
    "        ax.xaxis.set_ticks_position('bottom')\n",
    "        ax.grid(axis=\"y\", zorder=0, color=\"#9698A1\")\n",
    "        ax.set_xticks((dates))\n",
    "        ax.set_xlim([left_limit, right_limit])\n",
    "        ax.set_ylim([0., 1.1])\n",
    "        ax.set_title('Daily Stats per gender', fontsize=15)\n",
    "        ax.set_xticklabels([date.strftime(\"%d %b\") for date in dates])\n",
    "        ax.legend(lab_chars, lab_desc, loc='upper center', \n",
    "                  bbox_to_anchor=(0.5, -0.05), fancybox=True, shadow=True, ncol=3)\n",
    "        "
   ]
  },
  {
   "cell_type": "code",
   "execution_count": 294,
   "metadata": {
    "collapsed": false
   },
   "outputs": [
    {
     "data": {
      "image/png": "[encoded data removed]",
      "text/plain": [
       "<matplotlib.figure.Figure at 0x1146d0a90>"
      ]
     },
     "metadata": {},
     "output_type": "display_data"
    }
   ],
   "source": [
    "graph_test = Graphs(pd.read_pickle(\"results\"))\n",
    "graph_test.overall_results_percent()"
   ]
  },
  {
   "cell_type": "code",
   "execution_count": 295,
   "metadata": {
    "collapsed": false
   },
   "outputs": [
    {
     "data": {
      "image/png": "[encoded data removed]",
      "text/plain": [
       "<matplotlib.figure.Figure at 0x114638f60>"
      ]
     },
     "metadata": {},
     "output_type": "display_data"
    }
   ],
   "source": [
    "graph_test.results_per_gen()"
   ]
  },
  {
   "cell_type": "code",
   "execution_count": 296,
   "metadata": {
    "collapsed": false
   },
   "outputs": [
    {
     "data": {
      "image/png": "[encoded data removed]",
      "text/plain": [
       "<matplotlib.figure.Figure at 0x11469e160>"
      ]
     },
     "metadata": {},
     "output_type": "display_data"
    }
   ],
   "source": [
    "graph_test.results_per_date()"
   ]
  },
  {
   "cell_type": "code",
   "execution_count": 297,
   "metadata": {
    "collapsed": false
   },
   "outputs": [
    {
     "data": {
      "image/png": "[encoded data removed]",
      "text/plain": [
       "<matplotlib.figure.Figure at 0x11469e710>"
      ]
     },
     "metadata": {},
     "output_type": "display_data"
    }
   ],
   "source": [
    "graph_test.wrong_rank()\n"
   ]
  },
  {
   "cell_type": "code",
   "execution_count": 298,
   "metadata": {
    "collapsed": false
   },
   "outputs": [
    {
     "data": {
      "image/png": "[encoded data removed]",
      "text/plain": [
       "<matplotlib.figure.Figure at 0x1146a4748>"
      ]
     },
     "metadata": {},
     "output_type": "display_data"
    }
   ],
   "source": [
    "graph_test.daily_stats()"
   ]
  },
  {
   "cell_type": "code",
   "execution_count": 299,
   "metadata": {
    "collapsed": false
   },
   "outputs": [
    {
     "data": {
      "image/png": "[encoded data removed]",
      "text/plain": [
       "<matplotlib.figure.Figure at 0x1167d75c0>"
      ]
     },
     "metadata": {},
     "output_type": "display_data"
    }
   ],
   "source": [
    "graph_test.daily_stats_per_gender()"
   ]
  },
  {
   "cell_type": "code",
   "execution_count": 302,
   "metadata": {
    "collapsed": false
   },
   "outputs": [],
   "source": [
    "main_figures = pd.read_pickle(\"results\")"
   ]
  },
  {
   "cell_type": "code",
   "execution_count": 136,
   "metadata": {
    "collapsed": false
   },
   "outputs": [],
   "source": [
    "grouped = (main_figures[\"correct\"]==True).groupby(main_figures[\"article\"])\n",
    "correct = grouped.mean()"
   ]
  },
  {
   "cell_type": "code",
   "execution_count": 137,
   "metadata": {
    "collapsed": false
   },
   "outputs": [
    {
     "data": {
      "text/plain": [
       "'der'"
      ]
     },
     "execution_count": 137,
     "metadata": {},
     "output_type": "execute_result"
    }
   ],
   "source": [
    "correct.idxmin()"
   ]
  },
  {
   "cell_type": "code",
   "execution_count": 138,
   "metadata": {
    "collapsed": false
   },
   "outputs": [
    {
     "data": {
      "text/plain": [
       "'0.8'"
      ]
     },
     "execution_count": 138,
     "metadata": {},
     "output_type": "execute_result"
    }
   ],
   "source": [
    "str(round(correct.min(), 2))"
   ]
  },
  {
   "cell_type": "code",
   "execution_count": 139,
   "metadata": {
    "collapsed": false
   },
   "outputs": [],
   "source": [
    "grouped_date = (main_figures[\"correct\"]==True).groupby(main_figures[\"date\"])\n",
    "correct_by_date = grouped.mean()\n",
    "date_max_correct = correct_by_date.idxmax()\n",
    "qt_date_max_correct = str(round(correct_by_date.max(), 4)*100) + \"%\""
   ]
  },
  {
   "cell_type": "code",
   "execution_count": 248,
   "metadata": {
    "collapsed": false
   },
   "outputs": [],
   "source": [
    "grouped = (main_figures[\"correct\"]==True).groupby(\n",
    "            [main_figures[\"date\"], main_figures[\"article\"]])\n",
    "correct_gender = grouped.mean().reset_index()\n",
    "#correct_gender[\"wrong\"] = 1 - correct_gender[\"correct\"] "
   ]
  },
  {
   "cell_type": "code",
   "execution_count": 249,
   "metadata": {
    "collapsed": false
   },
   "outputs": [],
   "source": [
    "correct_gender[\"pct_change\"] =  (correct_gender.groupby(\"article\").pct_change())*100"
   ]
  },
  {
   "cell_type": "code",
   "execution_count": 250,
   "metadata": {
    "collapsed": false
   },
   "outputs": [],
   "source": [
    "#correct_gender = correct_gender.set_index(pd.DatetimeIndex(correct_gender[\"date\"]))"
   ]
  },
  {
   "cell_type": "code",
   "execution_count": 286,
   "metadata": {
    "collapsed": false
   },
   "outputs": [
    {
     "data": {
      "text/plain": [
       "3"
      ]
     },
     "execution_count": 286,
     "metadata": {},
     "output_type": "execute_result"
    }
   ],
   "source": [
    "len(pd.unique(correct_gender[\"date\"]))"
   ]
  },
  {
   "cell_type": "code",
   "execution_count": 280,
   "metadata": {
    "collapsed": false
   },
   "outputs": [],
   "source": [
    "last_date = correct_gender[correct_gender[\"date\"] == max(correct_gender.date)]\n",
    "biggest_change = max(last_date[\"pct_change\"])\n",
    "gender_big_change = last_date.loc[[last_date[\"pct_change\"].idxmax()]][\"article\"].to_string(index=False)\n",
    "# bigger_change = max(correct_gender.loc[correct_gender.index[-1]][\"pct_change\"])\n",
    "#last_date.loc[last_date[\"pct_change\"].idxmax()]"
   ]
  },
  {
   "cell_type": "code",
   "execution_count": 281,
   "metadata": {
    "collapsed": false
   },
   "outputs": [
    {
     "data": {
      "text/plain": [
       "16.666666666666675"
      ]
     },
     "execution_count": 281,
     "metadata": {},
     "output_type": "execute_result"
    }
   ],
   "source": [
    "biggest_change"
   ]
  },
  {
   "cell_type": "code",
   "execution_count": 282,
   "metadata": {
    "collapsed": false
   },
   "outputs": [
    {
     "data": {
      "text/plain": [
       "'das'"
      ]
     },
     "execution_count": 282,
     "metadata": {},
     "output_type": "execute_result"
    }
   ],
   "source": [
    "gender_big_change"
   ]
  },
  {
   "cell_type": "code",
   "execution_count": 279,
   "metadata": {
    "collapsed": false
   },
   "outputs": [
    {
     "data": {
      "text/plain": [
       "'das'"
      ]
     },
     "execution_count": 279,
     "metadata": {},
     "output_type": "execute_result"
    }
   ],
   "source": [
    "last_date.loc[[last_date[\"pct_change\"].idxmax()]][\"article\"].to_string(index=False)"
   ]
  },
  {
   "cell_type": "code",
   "execution_count": 288,
   "metadata": {
    "collapsed": true
   },
   "outputs": [],
   "source": [
    "lowest_change = min(last_date[\"pct_change\"])"
   ]
  },
  {
   "cell_type": "code",
   "execution_count": 289,
   "metadata": {
    "collapsed": false
   },
   "outputs": [
    {
     "data": {
      "text/plain": [
       "-11.458333333333325"
      ]
     },
     "execution_count": 289,
     "metadata": {},
     "output_type": "execute_result"
    }
   ],
   "source": [
    "lowest_change"
   ]
  },
  {
   "cell_type": "code",
   "execution_count": 290,
   "metadata": {
    "collapsed": true
   },
   "outputs": [],
   "source": [
    "gender_lowest_change = last_date.loc[[last_date[\"pct_change\"].idxmin()]][\"article\"].to_string(index=False)"
   ]
  },
  {
   "cell_type": "code",
   "execution_count": 291,
   "metadata": {
    "collapsed": false
   },
   "outputs": [
    {
     "data": {
      "text/plain": [
       "'die'"
      ]
     },
     "execution_count": 291,
     "metadata": {},
     "output_type": "execute_result"
    }
   ],
   "source": [
    "gender_lowest_change"
   ]
  },
  {
   "cell_type": "code",
   "execution_count": 303,
   "metadata": {
    "collapsed": false
   },
   "outputs": [],
   "source": [
    "grouped_date = main_figures.groupby(main_figures[\"date\"])"
   ]
  },
  {
   "cell_type": "code",
   "execution_count": 310,
   "metadata": {
    "collapsed": false
   },
   "outputs": [
    {
     "data": {
      "text/plain": [
       "80"
      ]
     },
     "execution_count": 310,
     "metadata": {},
     "output_type": "execute_result"
    }
   ],
   "source": [
    "grouped_date.size().max()"
   ]
  },
  {
   "cell_type": "code",
   "execution_count": 309,
   "metadata": {
    "collapsed": false
   },
   "outputs": [
    {
     "data": {
      "text/plain": [
       "'13-06-2016'"
      ]
     },
     "execution_count": 309,
     "metadata": {},
     "output_type": "execute_result"
    }
   ],
   "source": [
    "grouped_date.size().idxmax()"
   ]
  },
  {
   "cell_type": "code",
   "execution_count": null,
   "metadata": {
    "collapsed": true
   },
   "outputs": [],
   "source": []
  }
 ],
 "metadata": {
  "kernelspec": {
   "display_name": "Python 3",
   "language": "python",
   "name": "python3"
  },
  "language_info": {
   "codemirror_mode": {
    "name": "ipython",
    "version": 3
   },
   "file_extension": ".py",
   "mimetype": "text/x-python",
   "name": "python",
   "nbconvert_exporter": "python",
   "pygments_lexer": "ipython3",
   "version": "3.4.2"
  }
 },
 "nbformat": 4,
 "nbformat_minor": 0
}
